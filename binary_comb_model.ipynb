{
 "cells": [
  {
   "cell_type": "code",
   "execution_count": 12,
   "id": "cf768a6e",
   "metadata": {},
   "outputs": [
    {
     "name": "stdout",
     "output_type": "stream",
     "text": [
      "a = 55514337664137.5\n"
     ]
    }
   ],
   "source": [
    "import numpy as np\n",
    "from scipy import constants\n",
    "\n",
    "# semi major axis, a calculation using neutron star as companion\n",
    "\n",
    "p = 16.35       # periodcity\n",
    "m = 10         # total mass of binary\n",
    "pi = constants.pi      # pi value\n",
    "\n",
    "a = 4 * 10 ** (12) * m ** (1/3) * p ** (2/3)\n",
    "#a2 = 8.6 * (10 ** (13)) * (m ** (1/3)) * (p ** (-2/3))\n",
    "print(f\"a = {a}\")\n",
    "#print(f\"a2 = {a2}\")    "
   ]
  },
  {
   "cell_type": "code",
   "execution_count": 13,
   "id": "4e0cf7bd",
   "metadata": {},
   "outputs": [
    {
     "name": "stdout",
     "output_type": "stream",
     "text": [
      "fraction = 0.24464831804281342\n"
     ]
    }
   ],
   "source": [
    "# finding fraction different of active window and periodcity\n",
    "\n",
    "aW = 4          # active window\n",
    "\n",
    "frac = aW / p\n",
    "\n",
    "print(f\"fraction = {frac}\")"
   ]
  },
  {
   "cell_type": "code",
   "execution_count": 14,
   "id": "1023f10f",
   "metadata": {},
   "outputs": [
    {
     "name": "stdout",
     "output_type": "stream",
     "text": [
      "opening angle in pi = 0.7685853586764019 * pi\n",
      "opening angle in angle = 44.036697247706414 degree\n"
     ]
    }
   ],
   "source": [
    "# finding opening angle from the fraction of active window and periodicity (eq 13 paper IZ)\n",
    "theta_op = frac * pi\n",
    "theta_op_angle = frac * 180\n",
    "\n",
    "print(f\"opening angle in pi = {theta_op} * pi\")\n",
    "print(f\"opening angle in angle = {theta_op_angle} degree\")"
   ]
  },
  {
   "cell_type": "code",
   "execution_count": 15,
   "id": "d8485760",
   "metadata": {},
   "outputs": [
    {
     "name": "stdout",
     "output_type": "stream",
     "text": [
      "Minium value of a opening is 0.21593668889901113a\n"
     ]
    }
   ],
   "source": [
    "# finding minimum size, r_0 required for a to maintain funnel as relative to a\n",
    "\n",
    "r_0 = 1 / ( (1 / np.sin(theta_op)) * np.sqrt(3 * (1 + (pi - theta_op) * (1 / np.tan(theta_op) ) ) ) )\n",
    "\n",
    "print(f\"Minium value of a opening is {r_0}a\")"
   ]
  },
  {
   "cell_type": "code",
   "execution_count": null,
   "id": "a9b21342",
   "metadata": {},
   "outputs": [],
   "source": [
    "# finding the value for Beta\n",
    "\n",
    "Lw =                # Luminosity of FRB pulsar wind\n",
    "c = constants.c     # Speed of light\n",
    "M = 10 ** (-9)      # mass-loss rate\n",
    "V = 3 * 10 ** (-2)  # wind velocity\n",
    "\n",
    "B = ( Lw / c ) / ( M * V )\n",
    "\n",
    "# finding the theta_c, half opening angle determined by the pressure balance between FRB pulsar wind and companian wind\n",
    "\n",
    "- theta_c + np.tan(theta_c) = ( B * pi ) / ( 1 - B )"
   ]
  },
  {
   "cell_type": "code",
   "execution_count": null,
   "id": "743bbf2a",
   "metadata": {},
   "outputs": [],
   "source": [
    "# finding the Photospheric radius using Eq 4 & 5 WIZ paper\n",
    "\n",
    "R =                  # distance between companian\n",
    "r =\n",
    "R_13 =\n",
    "\n",
    "T_4 =               # temperature of the wind\n",
    "f_9 =               # frequency of the FRB\n",
    "g_ff =              # Gaunt factor for Bremsstrahlung\n",
    "\n",
    "# Optical Depth due to Thompson Scattering\n",
    "Depth_th = 6.7 * 10 ** ( -7 ) * M * V ** ( -1 ) * R_13 ** ( -1 ) * (1 + r / R) ** -1\n",
    "\n",
    "# Optical Depth due to free-free absorptions\n",
    "Depth_ff = 1.8 * 10 ** ( -3 ) * T_4 ** ( -3 / 2 ) * f_9 ** ( -2 ) * g_ff * M ** ( 2 ) * V ** ( -2 ) * R_13 ** ( -3 ) * ( 1 / ( 3 * (1 + r / R ) ** (3)))"
   ]
  },
  {
   "cell_type": "code",
   "execution_count": null,
   "id": "72d26749",
   "metadata": {},
   "outputs": [],
   "source": [
    "# finding comb length, r_s (spiral arm) from eq 14 WIZ\n",
    "\n",
    "M_tot = \n",
    "\n",
    "omega = np.sqrt(G * M_tot / (a ** 3)\n",
    "\n",
    "# comb length eq assuming e = 0\n",
    "r_s = np.sin(theta_c) * V / omega - a"
   ]
  }
 ],
 "metadata": {
  "kernelspec": {
   "display_name": "Python 3",
   "language": "python",
   "name": "python3"
  },
  "language_info": {
   "codemirror_mode": {
    "name": "ipython",
    "version": 3
   },
   "file_extension": ".py",
   "mimetype": "text/x-python",
   "name": "python",
   "nbconvert_exporter": "python",
   "pygments_lexer": "ipython3",
   "version": "3.11.9"
  }
 },
 "nbformat": 4,
 "nbformat_minor": 5
}
