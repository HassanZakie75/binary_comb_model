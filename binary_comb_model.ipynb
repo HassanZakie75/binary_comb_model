{
 "cells": [
  {
   "cell_type": "code",
   "execution_count": 29,
   "id": "9a42ba8c",
   "metadata": {},
   "outputs": [],
   "source": [
    "import matplotlib.pyplot as plt\n",
    "import numpy as np\n",
    "from scipy import constants\n",
    "from scipy.optimize import root"
   ]
  },
  {
   "cell_type": "code",
   "execution_count": 30,
   "id": "cf768a6e",
   "metadata": {},
   "outputs": [
    {
     "name": "stdout",
     "output_type": "stream",
     "text": [
      "a = 4076330172615.2104\n"
     ]
    }
   ],
   "source": [
    "# semi major axis, a calculation using neutron star as companion\n",
    "\n",
    "p = 16.35\n",
    "P = 16.35 * 24 * 60 * 60  # periodcity ( 16.35 day to second)\n",
    "m = 2 * 10 ** (33) * 10   # total mass of binary (gram convert to solar mass)\n",
    "G = 6.7 * 10 ** (-8)   \n",
    "pi = constants.pi      # pi value\n",
    "\n",
    "#a1 = 4 * 10 ** (12) * m ** (1/3) * p ** (2/3)\n",
    "a = ( G * m ) ** (1/3) * (P / (2 * pi)) ** (2 / 3)\n",
    "print(f\"a = {a}\")\n",
    "#print(f\"a1 = {a1}\")    "
   ]
  },
  {
   "cell_type": "code",
   "execution_count": 31,
   "id": "4e0cf7bd",
   "metadata": {},
   "outputs": [
    {
     "name": "stdout",
     "output_type": "stream",
     "text": [
      "fraction = 0.24464831804281342\n"
     ]
    }
   ],
   "source": [
    "# finding fraction different of active window and periodcity\n",
    "\n",
    "aW = 4          # active window\n",
    "\n",
    "frac = aW / p\n",
    "\n",
    "print(f\"fraction = {frac}\")"
   ]
  },
  {
   "cell_type": "code",
   "execution_count": 32,
   "id": "1023f10f",
   "metadata": {},
   "outputs": [
    {
     "name": "stdout",
     "output_type": "stream",
     "text": [
      "opening angle in pi = 0.7685853586764019 * pi\n",
      "opening angle in angle = 44.036697247706414 degree\n"
     ]
    }
   ],
   "source": [
    "# finding opening angle from the fraction of active window and periodicity (eq 13 paper IZ)\n",
    "theta_op = frac * pi\n",
    "theta_op_angle = frac * 180\n",
    "\n",
    "print(f\"opening angle in pi = {theta_op} * pi\")\n",
    "print(f\"opening angle in angle = {theta_op_angle} degree\")"
   ]
  },
  {
   "cell_type": "code",
   "execution_count": 33,
   "id": "d8485760",
   "metadata": {},
   "outputs": [
    {
     "name": "stdout",
     "output_type": "stream",
     "text": [
      "Minium value of a opening is 0.21593668889901113a\n",
      "Numerical value of r_0 = 880229240333.6631\n",
      "Numerical value of r_0 = 2038165086307.6052\n"
     ]
    }
   ],
   "source": [
    "# finding minimum size, r_0 required for a to maintain funnel as relative to a\n",
    "\n",
    "r_0 = 1 / ( (1 / np.sin(theta_op)) * np.sqrt(3 * (1 + (pi - theta_op) * (1 / np.tan(theta_op) ) ) ) )\n",
    "\n",
    "print(f\"Minium value of a opening is {r_0}a\")\n",
    "\n",
    "r_0_value = r_0 * a  # equation 15 I&Z\n",
    "print(f\"Numerical value of r_0 = {r_0_value}\")\n",
    "\n",
    "r_0_max = 0.5 * a  # equation 16 I&Z\n",
    "print(f\"Numerical value of r_0 = {r_0_max}\")"
   ]
  },
  {
   "cell_type": "code",
   "execution_count": 34,
   "id": "81459e2d",
   "metadata": {},
   "outputs": [
    {
     "name": "stdout",
     "output_type": "stream",
     "text": [
      "[3.14158123]\n"
     ]
    }
   ],
   "source": [
    "def eqn(x):\n",
    "  return - x + np.tan(x) + pi\n",
    "\n",
    "root_1 = root(eqn, 0)\n",
    "\n",
    "print(root_1.x)"
   ]
  },
  {
   "cell_type": "code",
   "execution_count": 35,
   "id": "c92199d6",
   "metadata": {},
   "outputs": [
    {
     "data": {
      "text/plain": [
       "-3.1415931907897834"
      ]
     },
     "execution_count": 35,
     "metadata": {},
     "output_type": "execute_result"
    }
   ],
   "source": [
    "( B * pi ) / ( 1 - B )"
   ]
  },
  {
   "cell_type": "code",
   "execution_count": 36,
   "id": "a9b21342",
   "metadata": {},
   "outputs": [
    {
     "name": "stdout",
     "output_type": "stream",
     "text": [
      "B = 0.005848088694617819\n",
      " theta_c = [0.37405387]\n"
     ]
    }
   ],
   "source": [
    "# finding the value for Beta Eq 10 WIZ paper (max Lw)\n",
    "\n",
    "Lw =  1 * 10 ** 30   # Luminosity of FRB pulsar wind (ergs/s)\n",
    "c = constants.c     # Speed of light \n",
    "M = 10 ** (-9) * (2 * 10 ** 33) / (365 * 24 * 60 * 60)     # mass-loss rate (solar mass per year to gram/s)\n",
    "V = 3 * 10 ** (-2) * ( constants.c ) # wind velocity (unit of c)\n",
    "\n",
    "B = ( Lw / c ) / ( M * V )\n",
    "\n",
    "# finding the theta_c, half opening angle determined by the pressure balance between FRB pulsar wind and companian wind\n",
    "\n",
    "def eqn(theta_c):\n",
    "    return - theta_c + np.tan(theta_c) - ( B * pi ) / ( 1 - B )\n",
    "\n",
    "myroot = root(eqn, 0)\n",
    "\n",
    "print(f\"B = {B}\")\n",
    "print(f\" theta_c = {myroot.x}\")"
   ]
  },
  {
   "cell_type": "code",
   "execution_count": null,
   "id": "e832114b",
   "metadata": {},
   "outputs": [
    {
     "name": "stdout",
     "output_type": "stream",
     "text": [
      "B = 5848088.694617819\n",
      " theta_c = [3.1298686]\n"
     ]
    }
   ],
   "source": [
    "# finding the value for Beta Eq 10 WIZ paper (max Lw)\n",
    "\n",
    "Lw = 1 * 10 ** 39   # Luminosity of FRB pulsar wind\n",
    "c = constants.c     # Speed of light \n",
    "M = 10 ** (-9) * (2 * 10 ** 33) / (365 * 24 * 60 * 60)     # mass-loss rate (solar mass per year to gram/s)\n",
    "V = 3 * 10 ** (-2) * ( constants.c ) # wind velocity (unit of c)\n",
    "\n",
    "B = ( Lw / c ) / ( M * V )\n",
    "\n",
    "# finding the theta_c, half opening angle determined by the pressure balance between FRB pulsar wind and companian wind\n",
    "\n",
    "def eqn(theta_c):\n",
    "    return - theta_c + np.tan(theta_c) - ( B * pi ) / ( 1 - B )\n",
    "\n",
    "myroot = root(eqn, 0)\n",
    "\n",
    "print(f\"B = {B}\")\n",
    "print(f\" theta_c = {myroot.x}\")"
   ]
  },
  {
   "cell_type": "code",
   "execution_count": 42,
   "id": "be2ab946",
   "metadata": {},
   "outputs": [
    {
     "data": {
      "image/png": "[encoded data removed]",
      "text/plain": [
       "<Figure size 640x480 with 1 Axes>"
      ]
     },
     "metadata": {},
     "output_type": "display_data"
    },
    {
     "name": "stdout",
     "output_type": "stream",
     "text": [
      " B = [0.05938498]\n"
     ]
    }
   ],
   "source": [
    "# finding the value for Beta Eq 10 WIZ paper (max Lw)\n",
    "theta_c = theta_op\n",
    "\n",
    "def eqn(B):\n",
    "    return - theta_c + np.tan(theta_c) - ( B * pi ) / ( 1 - B )\n",
    "\n",
    "B_value = root(eqn, 0)\n",
    "\n",
    "#Lw =  1 * 10 ** 30   # Luminosity of FRB pulsar wind (ergs/s)\n",
    "c = constants.c     # Speed of light \n",
    "#M = 10 ** (-9) * (2 * 10 ** 33) / (365 * 24 * 60 * 60)     # mass-loss rate (solar mass per year to gram/s)\n",
    "V = 3 * 10 ** (-2) * ( constants.c ) # wind velocity (unit of c)\n",
    "\n",
    "B = ( Lw / c ) / ( M * V )\n",
    "\n",
    "\n",
    "M = np.logspace(-9, -2, 1000) * (2 * 10 ** 33) / (365 * 24 * 60 * 60)  # ploting x-axis (solar mass / year)\n",
    "Lw = B * (M * V) * c    #ploting y-axis\n",
    "\n",
    "# plot the data\n",
    "plt.plot(M, Lw, label='Lw vs M')\n",
    "\n",
    "#Add label\n",
    "plt.xscale('log')\n",
    "plt.yscale('log')\n",
    "plt.xlabel('M')\n",
    "plt.ylabel('Lw')\n",
    "plt.grid(True)\n",
    "plt.show()\n",
    "\n",
    "\n",
    "#print(f\"B = {B}\")\n",
    "print(f\" B = {myroot.x}\")"
   ]
  },
  {
   "cell_type": "code",
   "execution_count": 38,
   "id": "743bbf2a",
   "metadata": {},
   "outputs": [
    {
     "ename": "SyntaxError",
     "evalue": "invalid syntax (3733900817.py, line 3)",
     "output_type": "error",
     "traceback": [
      "\u001b[1;36m  Cell \u001b[1;32mIn[38], line 3\u001b[1;36m\u001b[0m\n\u001b[1;33m    R = a sf                 # distance between companian\u001b[0m\n\u001b[1;37m          ^\u001b[0m\n\u001b[1;31mSyntaxError\u001b[0m\u001b[1;31m:\u001b[0m invalid syntax\n"
     ]
    }
   ],
   "source": [
    "# finding the Photospheric radius using Eq 4 & 5 WIZ paper\n",
    "\n",
    "R = a sf                 # distance between companian\n",
    "r = \n",
    "R_13 =\n",
    "\n",
    "T_4 =               # temperature of the wind\n",
    "f_9 =               # frequency of the FRB\n",
    "g_ff =              # Gaunt factor for Bremsstrahlung\n",
    "\n",
    "# Optical Depth due to Thompson Scattering\n",
    "Depth_th = 6.7 * 10 ** ( -7 ) * M * V ** ( -1 ) * R_13 ** ( -1 ) * (1 + r / R) ** -1\n",
    "\n",
    "# Optical Depth due to free-free absorptions\n",
    "Depth_ff = 1.8 * 10 ** ( -3 ) * T_4 ** ( -3 / 2 ) * f_9 ** ( -2 ) * g_ff * M ** ( 2 ) * V ** ( -2 ) * R_13 ** ( -3 ) * ( 1 / ( 3 * (1 + r / R ) ** (3)))"
   ]
  },
  {
   "cell_type": "code",
   "execution_count": null,
   "id": "72d26749",
   "metadata": {},
   "outputs": [],
   "source": [
    "# finding comb length, r_s (spiral arm) from eq 14 WIZ\n",
    "\n",
    "M_tot = \n",
    "p\n",
    "omega = np.sqrt(G * M_tot / (a ** 3)\n",
    "\n",
    "# comb length eq assuming e = 0\n",
    "r_s = np.sin(theta_c) * V / omega - a"
   ]
  }
 ],
 "metadata": {
  "kernelspec": {
   "display_name": "Python 3",
   "language": "python",
   "name": "python3"
  },
  "language_info": {
   "codemirror_mode": {
    "name": "ipython",
    "version": 3
   },
   "file_extension": ".py",
   "mimetype": "text/x-python",
   "name": "python",
   "nbconvert_exporter": "python",
   "pygments_lexer": "ipython3",
   "version": "3.11.9"
  }
 },
 "nbformat": 4,
 "nbformat_minor": 5
}
